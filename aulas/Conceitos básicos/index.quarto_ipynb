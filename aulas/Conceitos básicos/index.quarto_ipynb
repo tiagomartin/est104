{
  "cells": [
    {
      "cell_type": "markdown",
      "metadata": {},
      "source": [
        "---\n",
        "title: \"Conceitos básicos\"\n",
        "format: \n",
        "  revealjs:\n",
        "    footer: \"\"\n",
        "    theme: quartomonothemer.scss\n",
        "incremental: false\n",
        "code-link: true\n",
        "---\n",
        "\n",
        "\n",
        "## Estatística na área da saúde {auto-animate=\"true\"}\n",
        "\n",
        "\n",
        "```{css}\n",
        ".colorido{\n",
        "  background-color: #161A3D;\n",
        "}\n",
        "```\n",
        "\n",
        "\n",
        "*A Estatística tem um papel relevante a nível da investigação científica na área das Ciências da Saúde, uma vez que as práticas e as investigações médicas geram uma grande quantidade de dados, cheios de incerteza e variabilidade, estando assim as variáveis de interesse sujeitas a flutuações aleatórias.*\n",
        "\n",
        "## Estatística na área da saúde {auto-animate=\"true\"}\n",
        "\n",
        "*A [Estatística]{.colorido} tem um papel relevante a nível da investigação científica na área das Ciências da Saúde, uma vez que as práticas e as investigações médicas geram uma grande quantidade de dados, cheios de incerteza e variabilidade, estando assim as variáveis de interesse sujeitas a flutuações aleatórias.*\n"
      ],
      "id": "d3531ed2"
    }
  ],
  "metadata": {
    "kernelspec": {
      "display_name": "Python 3",
      "language": "python",
      "name": "python3"
    }
  },
  "nbformat": 4,
  "nbformat_minor": 5
}